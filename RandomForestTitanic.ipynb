{
 "cells": [
  {
   "cell_type": "code",
   "execution_count": 1,
   "id": "dd56b152",
   "metadata": {},
   "outputs": [],
   "source": [
    "import pandas as pd\n",
    "import numpy as np"
   ]
  },
  {
   "cell_type": "code",
   "execution_count": 2,
   "id": "648a312f",
   "metadata": {},
   "outputs": [],
   "source": [
    "train=pd.read_csv('train.csv')\n",
    "test=pd.read_csv('test.csv')"
   ]
  },
  {
   "cell_type": "code",
   "execution_count": null,
   "id": "86bed209",
   "metadata": {},
   "outputs": [],
   "source": []
  },
  {
   "cell_type": "code",
   "execution_count": 3,
   "id": "99a8505f",
   "metadata": {},
   "outputs": [
    {
     "data": {
      "text/html": [
       "<div>\n",
       "<style scoped>\n",
       "    .dataframe tbody tr th:only-of-type {\n",
       "        vertical-align: middle;\n",
       "    }\n",
       "\n",
       "    .dataframe tbody tr th {\n",
       "        vertical-align: top;\n",
       "    }\n",
       "\n",
       "    .dataframe thead th {\n",
       "        text-align: right;\n",
       "    }\n",
       "</style>\n",
       "<table border=\"1\" class=\"dataframe\">\n",
       "  <thead>\n",
       "    <tr style=\"text-align: right;\">\n",
       "      <th></th>\n",
       "      <th>PassengerId</th>\n",
       "      <th>Survived</th>\n",
       "      <th>Pclass</th>\n",
       "      <th>Name</th>\n",
       "      <th>Sex</th>\n",
       "      <th>Age</th>\n",
       "      <th>SibSp</th>\n",
       "      <th>Parch</th>\n",
       "      <th>Ticket</th>\n",
       "      <th>Fare</th>\n",
       "      <th>Cabin</th>\n",
       "      <th>Embarked</th>\n",
       "    </tr>\n",
       "  </thead>\n",
       "  <tbody>\n",
       "    <tr>\n",
       "      <th>0</th>\n",
       "      <td>1</td>\n",
       "      <td>0</td>\n",
       "      <td>3</td>\n",
       "      <td>Braund, Mr. Owen Harris</td>\n",
       "      <td>male</td>\n",
       "      <td>22.0</td>\n",
       "      <td>1</td>\n",
       "      <td>0</td>\n",
       "      <td>A/5 21171</td>\n",
       "      <td>7.2500</td>\n",
       "      <td>NaN</td>\n",
       "      <td>S</td>\n",
       "    </tr>\n",
       "    <tr>\n",
       "      <th>1</th>\n",
       "      <td>2</td>\n",
       "      <td>1</td>\n",
       "      <td>1</td>\n",
       "      <td>Cumings, Mrs. John Bradley (Florence Briggs Th...</td>\n",
       "      <td>female</td>\n",
       "      <td>38.0</td>\n",
       "      <td>1</td>\n",
       "      <td>0</td>\n",
       "      <td>PC 17599</td>\n",
       "      <td>71.2833</td>\n",
       "      <td>C85</td>\n",
       "      <td>C</td>\n",
       "    </tr>\n",
       "    <tr>\n",
       "      <th>2</th>\n",
       "      <td>3</td>\n",
       "      <td>1</td>\n",
       "      <td>3</td>\n",
       "      <td>Heikkinen, Miss. Laina</td>\n",
       "      <td>female</td>\n",
       "      <td>26.0</td>\n",
       "      <td>0</td>\n",
       "      <td>0</td>\n",
       "      <td>STON/O2. 3101282</td>\n",
       "      <td>7.9250</td>\n",
       "      <td>NaN</td>\n",
       "      <td>S</td>\n",
       "    </tr>\n",
       "    <tr>\n",
       "      <th>3</th>\n",
       "      <td>4</td>\n",
       "      <td>1</td>\n",
       "      <td>1</td>\n",
       "      <td>Futrelle, Mrs. Jacques Heath (Lily May Peel)</td>\n",
       "      <td>female</td>\n",
       "      <td>35.0</td>\n",
       "      <td>1</td>\n",
       "      <td>0</td>\n",
       "      <td>113803</td>\n",
       "      <td>53.1000</td>\n",
       "      <td>C123</td>\n",
       "      <td>S</td>\n",
       "    </tr>\n",
       "  </tbody>\n",
       "</table>\n",
       "</div>"
      ],
      "text/plain": [
       "   PassengerId  Survived  Pclass  \\\n",
       "0            1         0       3   \n",
       "1            2         1       1   \n",
       "2            3         1       3   \n",
       "3            4         1       1   \n",
       "\n",
       "                                                Name     Sex   Age  SibSp  \\\n",
       "0                            Braund, Mr. Owen Harris    male  22.0      1   \n",
       "1  Cumings, Mrs. John Bradley (Florence Briggs Th...  female  38.0      1   \n",
       "2                             Heikkinen, Miss. Laina  female  26.0      0   \n",
       "3       Futrelle, Mrs. Jacques Heath (Lily May Peel)  female  35.0      1   \n",
       "\n",
       "   Parch            Ticket     Fare Cabin Embarked  \n",
       "0      0         A/5 21171   7.2500   NaN        S  \n",
       "1      0          PC 17599  71.2833   C85        C  \n",
       "2      0  STON/O2. 3101282   7.9250   NaN        S  \n",
       "3      0            113803  53.1000  C123        S  "
      ]
     },
     "execution_count": 3,
     "metadata": {},
     "output_type": "execute_result"
    }
   ],
   "source": [
    "train.head(4)"
   ]
  },
  {
   "cell_type": "code",
   "execution_count": 4,
   "id": "490a6657",
   "metadata": {},
   "outputs": [],
   "source": [
    "from sklearn.ensemble import RandomForestClassifier as rndf"
   ]
  },
  {
   "cell_type": "code",
   "execution_count": 5,
   "id": "e543f22c",
   "metadata": {},
   "outputs": [],
   "source": [
    "# n_estimators = numero de arvores da random-forest\n",
    "modelo=rndf(n_estimators=100,n_jobs=-1,random_state=0)\n"
   ]
  },
  {
   "cell_type": "code",
   "execution_count": null,
   "id": "13a7feca",
   "metadata": {},
   "outputs": [],
   "source": []
  },
  {
   "cell_type": "code",
   "execution_count": 6,
   "id": "046a8fc7",
   "metadata": {},
   "outputs": [],
   "source": [
    "# Função atribuir feminino como 1 e masculino como 0\n",
    "# Deixar o sexo como uma variável binária\n",
    "def trans(valor):\n",
    "    if valor =='female':\n",
    "        return 1\n",
    "    else:\n",
    "        return 0"
   ]
  },
  {
   "cell_type": "code",
   "execution_count": 7,
   "id": "91ff13c0",
   "metadata": {},
   "outputs": [],
   "source": [
    "# Crindo uma coluna nos dados treino\n",
    "# coluna = 'Sex_binario', atribuindo sexo como 0 ou 1 nessa coluna\n",
    "train['Sex_binario']=train['Sex'].map(trans)"
   ]
  },
  {
   "cell_type": "code",
   "execution_count": 8,
   "id": "c937fba6",
   "metadata": {},
   "outputs": [
    {
     "data": {
      "text/html": [
       "<div>\n",
       "<style scoped>\n",
       "    .dataframe tbody tr th:only-of-type {\n",
       "        vertical-align: middle;\n",
       "    }\n",
       "\n",
       "    .dataframe tbody tr th {\n",
       "        vertical-align: top;\n",
       "    }\n",
       "\n",
       "    .dataframe thead th {\n",
       "        text-align: right;\n",
       "    }\n",
       "</style>\n",
       "<table border=\"1\" class=\"dataframe\">\n",
       "  <thead>\n",
       "    <tr style=\"text-align: right;\">\n",
       "      <th></th>\n",
       "      <th>PassengerId</th>\n",
       "      <th>Survived</th>\n",
       "      <th>Pclass</th>\n",
       "      <th>Name</th>\n",
       "      <th>Sex</th>\n",
       "      <th>Age</th>\n",
       "      <th>SibSp</th>\n",
       "      <th>Parch</th>\n",
       "      <th>Ticket</th>\n",
       "      <th>Fare</th>\n",
       "      <th>Cabin</th>\n",
       "      <th>Embarked</th>\n",
       "      <th>Sex_binario</th>\n",
       "    </tr>\n",
       "  </thead>\n",
       "  <tbody>\n",
       "    <tr>\n",
       "      <th>0</th>\n",
       "      <td>1</td>\n",
       "      <td>0</td>\n",
       "      <td>3</td>\n",
       "      <td>Braund, Mr. Owen Harris</td>\n",
       "      <td>male</td>\n",
       "      <td>22.0</td>\n",
       "      <td>1</td>\n",
       "      <td>0</td>\n",
       "      <td>A/5 21171</td>\n",
       "      <td>7.2500</td>\n",
       "      <td>NaN</td>\n",
       "      <td>S</td>\n",
       "      <td>0</td>\n",
       "    </tr>\n",
       "    <tr>\n",
       "      <th>1</th>\n",
       "      <td>2</td>\n",
       "      <td>1</td>\n",
       "      <td>1</td>\n",
       "      <td>Cumings, Mrs. John Bradley (Florence Briggs Th...</td>\n",
       "      <td>female</td>\n",
       "      <td>38.0</td>\n",
       "      <td>1</td>\n",
       "      <td>0</td>\n",
       "      <td>PC 17599</td>\n",
       "      <td>71.2833</td>\n",
       "      <td>C85</td>\n",
       "      <td>C</td>\n",
       "      <td>1</td>\n",
       "    </tr>\n",
       "    <tr>\n",
       "      <th>2</th>\n",
       "      <td>3</td>\n",
       "      <td>1</td>\n",
       "      <td>3</td>\n",
       "      <td>Heikkinen, Miss. Laina</td>\n",
       "      <td>female</td>\n",
       "      <td>26.0</td>\n",
       "      <td>0</td>\n",
       "      <td>0</td>\n",
       "      <td>STON/O2. 3101282</td>\n",
       "      <td>7.9250</td>\n",
       "      <td>NaN</td>\n",
       "      <td>S</td>\n",
       "      <td>1</td>\n",
       "    </tr>\n",
       "  </tbody>\n",
       "</table>\n",
       "</div>"
      ],
      "text/plain": [
       "   PassengerId  Survived  Pclass  \\\n",
       "0            1         0       3   \n",
       "1            2         1       1   \n",
       "2            3         1       3   \n",
       "\n",
       "                                                Name     Sex   Age  SibSp  \\\n",
       "0                            Braund, Mr. Owen Harris    male  22.0      1   \n",
       "1  Cumings, Mrs. John Bradley (Florence Briggs Th...  female  38.0      1   \n",
       "2                             Heikkinen, Miss. Laina  female  26.0      0   \n",
       "\n",
       "   Parch            Ticket     Fare Cabin Embarked  Sex_binario  \n",
       "0      0         A/5 21171   7.2500   NaN        S            0  \n",
       "1      0          PC 17599  71.2833   C85        C            1  \n",
       "2      0  STON/O2. 3101282   7.9250   NaN        S            1  "
      ]
     },
     "execution_count": 8,
     "metadata": {},
     "output_type": "execute_result"
    }
   ],
   "source": [
    "train.head(3)"
   ]
  },
  {
   "cell_type": "code",
   "execution_count": 9,
   "id": "d4242889",
   "metadata": {},
   "outputs": [],
   "source": [
    "#Variáveis que serão utilizadas para o modelo\n",
    "variaveis = ['Sex_binario', 'Age']"
   ]
  },
  {
   "cell_type": "code",
   "execution_count": 10,
   "id": "ebe79bfa",
   "metadata": {},
   "outputs": [],
   "source": [
    "# x = variaveis utilizadas para o modelo\n",
    "# y = variaveis a prever \n",
    "x=train[variaveis]\n",
    "y=train['Survived']"
   ]
  },
  {
   "cell_type": "code",
   "execution_count": 11,
   "id": "9d296e77",
   "metadata": {},
   "outputs": [
    {
     "data": {
      "text/plain": [
       "0    0\n",
       "1    1\n",
       "2    1\n",
       "3    1\n",
       "4    0\n",
       "Name: Survived, dtype: int64"
      ]
     },
     "execution_count": 11,
     "metadata": {},
     "output_type": "execute_result"
    }
   ],
   "source": [
    "y.head()"
   ]
  },
  {
   "cell_type": "code",
   "execution_count": 12,
   "id": "9807c03b",
   "metadata": {},
   "outputs": [
    {
     "data": {
      "text/html": [
       "<div>\n",
       "<style scoped>\n",
       "    .dataframe tbody tr th:only-of-type {\n",
       "        vertical-align: middle;\n",
       "    }\n",
       "\n",
       "    .dataframe tbody tr th {\n",
       "        vertical-align: top;\n",
       "    }\n",
       "\n",
       "    .dataframe thead th {\n",
       "        text-align: right;\n",
       "    }\n",
       "</style>\n",
       "<table border=\"1\" class=\"dataframe\">\n",
       "  <thead>\n",
       "    <tr style=\"text-align: right;\">\n",
       "      <th></th>\n",
       "      <th>Sex_binario</th>\n",
       "      <th>Age</th>\n",
       "    </tr>\n",
       "  </thead>\n",
       "  <tbody>\n",
       "    <tr>\n",
       "      <th>0</th>\n",
       "      <td>0</td>\n",
       "      <td>22.0</td>\n",
       "    </tr>\n",
       "    <tr>\n",
       "      <th>1</th>\n",
       "      <td>1</td>\n",
       "      <td>38.0</td>\n",
       "    </tr>\n",
       "    <tr>\n",
       "      <th>2</th>\n",
       "      <td>1</td>\n",
       "      <td>26.0</td>\n",
       "    </tr>\n",
       "    <tr>\n",
       "      <th>3</th>\n",
       "      <td>1</td>\n",
       "      <td>35.0</td>\n",
       "    </tr>\n",
       "    <tr>\n",
       "      <th>4</th>\n",
       "      <td>0</td>\n",
       "      <td>35.0</td>\n",
       "    </tr>\n",
       "  </tbody>\n",
       "</table>\n",
       "</div>"
      ],
      "text/plain": [
       "   Sex_binario   Age\n",
       "0            0  22.0\n",
       "1            1  38.0\n",
       "2            1  26.0\n",
       "3            1  35.0\n",
       "4            0  35.0"
      ]
     },
     "execution_count": 12,
     "metadata": {},
     "output_type": "execute_result"
    }
   ],
   "source": [
    "x.head()"
   ]
  },
  {
   "cell_type": "code",
   "execution_count": 13,
   "id": "f3f94451",
   "metadata": {},
   "outputs": [],
   "source": [
    "#Substituindo os dados faltantes por -1\n",
    "x=x.fillna(-1)"
   ]
  },
  {
   "cell_type": "code",
   "execution_count": 14,
   "id": "8d37d182",
   "metadata": {},
   "outputs": [
    {
     "data": {
      "text/plain": [
       "RandomForestClassifier(n_jobs=-1, random_state=0)"
      ]
     },
     "execution_count": 14,
     "metadata": {},
     "output_type": "execute_result"
    }
   ],
   "source": [
    "# Variavel de entrada = x\n",
    "# Variavel a prever = y\n",
    "modelo.fit(x,y)"
   ]
  },
  {
   "cell_type": "code",
   "execution_count": 15,
   "id": "1619f88d",
   "metadata": {},
   "outputs": [],
   "source": [
    "# Criando a coluna 'Sex_binario' nos dados de teste\n",
    "# utilizando a função trans para colocar o sexo como binário \n",
    "test['Sex_binario']=test['Sex'].map(trans)"
   ]
  },
  {
   "cell_type": "code",
   "execution_count": 16,
   "id": "7c0e05c9",
   "metadata": {},
   "outputs": [
    {
     "data": {
      "text/html": [
       "<div>\n",
       "<style scoped>\n",
       "    .dataframe tbody tr th:only-of-type {\n",
       "        vertical-align: middle;\n",
       "    }\n",
       "\n",
       "    .dataframe tbody tr th {\n",
       "        vertical-align: top;\n",
       "    }\n",
       "\n",
       "    .dataframe thead th {\n",
       "        text-align: right;\n",
       "    }\n",
       "</style>\n",
       "<table border=\"1\" class=\"dataframe\">\n",
       "  <thead>\n",
       "    <tr style=\"text-align: right;\">\n",
       "      <th></th>\n",
       "      <th>Sex_binario</th>\n",
       "      <th>Age</th>\n",
       "    </tr>\n",
       "  </thead>\n",
       "  <tbody>\n",
       "    <tr>\n",
       "      <th>0</th>\n",
       "      <td>0</td>\n",
       "      <td>34.5</td>\n",
       "    </tr>\n",
       "    <tr>\n",
       "      <th>1</th>\n",
       "      <td>1</td>\n",
       "      <td>47.0</td>\n",
       "    </tr>\n",
       "    <tr>\n",
       "      <th>2</th>\n",
       "      <td>0</td>\n",
       "      <td>62.0</td>\n",
       "    </tr>\n",
       "    <tr>\n",
       "      <th>3</th>\n",
       "      <td>0</td>\n",
       "      <td>27.0</td>\n",
       "    </tr>\n",
       "    <tr>\n",
       "      <th>4</th>\n",
       "      <td>1</td>\n",
       "      <td>22.0</td>\n",
       "    </tr>\n",
       "    <tr>\n",
       "      <th>...</th>\n",
       "      <td>...</td>\n",
       "      <td>...</td>\n",
       "    </tr>\n",
       "    <tr>\n",
       "      <th>413</th>\n",
       "      <td>0</td>\n",
       "      <td>NaN</td>\n",
       "    </tr>\n",
       "    <tr>\n",
       "      <th>414</th>\n",
       "      <td>1</td>\n",
       "      <td>39.0</td>\n",
       "    </tr>\n",
       "    <tr>\n",
       "      <th>415</th>\n",
       "      <td>0</td>\n",
       "      <td>38.5</td>\n",
       "    </tr>\n",
       "    <tr>\n",
       "      <th>416</th>\n",
       "      <td>0</td>\n",
       "      <td>NaN</td>\n",
       "    </tr>\n",
       "    <tr>\n",
       "      <th>417</th>\n",
       "      <td>0</td>\n",
       "      <td>NaN</td>\n",
       "    </tr>\n",
       "  </tbody>\n",
       "</table>\n",
       "<p>418 rows × 2 columns</p>\n",
       "</div>"
      ],
      "text/plain": [
       "     Sex_binario   Age\n",
       "0              0  34.5\n",
       "1              1  47.0\n",
       "2              0  62.0\n",
       "3              0  27.0\n",
       "4              1  22.0\n",
       "..           ...   ...\n",
       "413            0   NaN\n",
       "414            1  39.0\n",
       "415            0  38.5\n",
       "416            0   NaN\n",
       "417            0   NaN\n",
       "\n",
       "[418 rows x 2 columns]"
      ]
     },
     "execution_count": 16,
     "metadata": {},
     "output_type": "execute_result"
    }
   ],
   "source": [
    "\n",
    "x_prev=test[variaveis]\n",
    "x_prev"
   ]
  },
  {
   "cell_type": "code",
   "execution_count": 17,
   "id": "644c4a92",
   "metadata": {},
   "outputs": [],
   "source": [
    "x_prev=x_prev.fillna(-1)"
   ]
  },
  {
   "cell_type": "code",
   "execution_count": 18,
   "id": "d7d9577b",
   "metadata": {},
   "outputs": [],
   "source": [
    "#Dados de previsão\n",
    "p=modelo.predict(x_prev)"
   ]
  },
  {
   "cell_type": "code",
   "execution_count": 19,
   "id": "60302e42",
   "metadata": {},
   "outputs": [
    {
     "data": {
      "text/html": [
       "<div>\n",
       "<style scoped>\n",
       "    .dataframe tbody tr th:only-of-type {\n",
       "        vertical-align: middle;\n",
       "    }\n",
       "\n",
       "    .dataframe tbody tr th {\n",
       "        vertical-align: top;\n",
       "    }\n",
       "\n",
       "    .dataframe thead th {\n",
       "        text-align: right;\n",
       "    }\n",
       "</style>\n",
       "<table border=\"1\" class=\"dataframe\">\n",
       "  <thead>\n",
       "    <tr style=\"text-align: right;\">\n",
       "      <th></th>\n",
       "      <th>PassengerId</th>\n",
       "      <th>Pclass</th>\n",
       "      <th>Name</th>\n",
       "      <th>Sex</th>\n",
       "      <th>Age</th>\n",
       "      <th>SibSp</th>\n",
       "      <th>Parch</th>\n",
       "      <th>Ticket</th>\n",
       "      <th>Fare</th>\n",
       "      <th>Cabin</th>\n",
       "      <th>Embarked</th>\n",
       "      <th>Sex_binario</th>\n",
       "    </tr>\n",
       "  </thead>\n",
       "  <tbody>\n",
       "    <tr>\n",
       "      <th>0</th>\n",
       "      <td>892</td>\n",
       "      <td>3</td>\n",
       "      <td>Kelly, Mr. James</td>\n",
       "      <td>male</td>\n",
       "      <td>34.5</td>\n",
       "      <td>0</td>\n",
       "      <td>0</td>\n",
       "      <td>330911</td>\n",
       "      <td>7.8292</td>\n",
       "      <td>NaN</td>\n",
       "      <td>Q</td>\n",
       "      <td>0</td>\n",
       "    </tr>\n",
       "    <tr>\n",
       "      <th>1</th>\n",
       "      <td>893</td>\n",
       "      <td>3</td>\n",
       "      <td>Wilkes, Mrs. James (Ellen Needs)</td>\n",
       "      <td>female</td>\n",
       "      <td>47.0</td>\n",
       "      <td>1</td>\n",
       "      <td>0</td>\n",
       "      <td>363272</td>\n",
       "      <td>7.0000</td>\n",
       "      <td>NaN</td>\n",
       "      <td>S</td>\n",
       "      <td>1</td>\n",
       "    </tr>\n",
       "    <tr>\n",
       "      <th>2</th>\n",
       "      <td>894</td>\n",
       "      <td>2</td>\n",
       "      <td>Myles, Mr. Thomas Francis</td>\n",
       "      <td>male</td>\n",
       "      <td>62.0</td>\n",
       "      <td>0</td>\n",
       "      <td>0</td>\n",
       "      <td>240276</td>\n",
       "      <td>9.6875</td>\n",
       "      <td>NaN</td>\n",
       "      <td>Q</td>\n",
       "      <td>0</td>\n",
       "    </tr>\n",
       "    <tr>\n",
       "      <th>3</th>\n",
       "      <td>895</td>\n",
       "      <td>3</td>\n",
       "      <td>Wirz, Mr. Albert</td>\n",
       "      <td>male</td>\n",
       "      <td>27.0</td>\n",
       "      <td>0</td>\n",
       "      <td>0</td>\n",
       "      <td>315154</td>\n",
       "      <td>8.6625</td>\n",
       "      <td>NaN</td>\n",
       "      <td>S</td>\n",
       "      <td>0</td>\n",
       "    </tr>\n",
       "    <tr>\n",
       "      <th>4</th>\n",
       "      <td>896</td>\n",
       "      <td>3</td>\n",
       "      <td>Hirvonen, Mrs. Alexander (Helga E Lindqvist)</td>\n",
       "      <td>female</td>\n",
       "      <td>22.0</td>\n",
       "      <td>1</td>\n",
       "      <td>1</td>\n",
       "      <td>3101298</td>\n",
       "      <td>12.2875</td>\n",
       "      <td>NaN</td>\n",
       "      <td>S</td>\n",
       "      <td>1</td>\n",
       "    </tr>\n",
       "  </tbody>\n",
       "</table>\n",
       "</div>"
      ],
      "text/plain": [
       "   PassengerId  Pclass                                          Name     Sex  \\\n",
       "0          892       3                              Kelly, Mr. James    male   \n",
       "1          893       3              Wilkes, Mrs. James (Ellen Needs)  female   \n",
       "2          894       2                     Myles, Mr. Thomas Francis    male   \n",
       "3          895       3                              Wirz, Mr. Albert    male   \n",
       "4          896       3  Hirvonen, Mrs. Alexander (Helga E Lindqvist)  female   \n",
       "\n",
       "    Age  SibSp  Parch   Ticket     Fare Cabin Embarked  Sex_binario  \n",
       "0  34.5      0      0   330911   7.8292   NaN        Q            0  \n",
       "1  47.0      1      0   363272   7.0000   NaN        S            1  \n",
       "2  62.0      0      0   240276   9.6875   NaN        Q            0  \n",
       "3  27.0      0      0   315154   8.6625   NaN        S            0  \n",
       "4  22.0      1      1  3101298  12.2875   NaN        S            1  "
      ]
     },
     "execution_count": 19,
     "metadata": {},
     "output_type": "execute_result"
    }
   ],
   "source": [
    "test.head()"
   ]
  },
  {
   "cell_type": "code",
   "execution_count": 20,
   "id": "23a44202",
   "metadata": {},
   "outputs": [
    {
     "data": {
      "text/plain": [
       "(418,)"
      ]
     },
     "execution_count": 20,
     "metadata": {},
     "output_type": "execute_result"
    }
   ],
   "source": [
    "#Criando uma serie de dados com as previsões, associando a col 'PassengerId', para efeito de comparação\n",
    "# Col com os dados previstos = 'p', foi nomeada como 'Survived'\n",
    "sub=pd.Series(p, index=test['PassengerId'], name='Survived')\n",
    "sub.shape"
   ]
  },
  {
   "cell_type": "code",
   "execution_count": 21,
   "id": "f1fa361b",
   "metadata": {},
   "outputs": [],
   "source": [
    "# Transformando o modelo em um arquivo .csv\n",
    "sub.to_csv('primeiro_modelo.csv', header=True)"
   ]
  },
  {
   "cell_type": "code",
   "execution_count": 22,
   "id": "823d82d9",
   "metadata": {},
   "outputs": [
    {
     "data": {
      "text/plain": [
       "PassengerId\n",
       "892    0\n",
       "893    1\n",
       "894    0\n",
       "Name: Survived, dtype: int64"
      ]
     },
     "execution_count": 22,
     "metadata": {},
     "output_type": "execute_result"
    }
   ],
   "source": [
    "sub.head(3)"
   ]
  },
  {
   "cell_type": "code",
   "execution_count": null,
   "id": "f995d5b2",
   "metadata": {},
   "outputs": [],
   "source": []
  },
  {
   "cell_type": "markdown",
   "id": "e32a73f1",
   "metadata": {},
   "source": [
    "# VALIDAÇÃO DO MODELO: "
   ]
  },
  {
   "cell_type": "code",
   "execution_count": 23,
   "id": "f0a27c6d",
   "metadata": {},
   "outputs": [],
   "source": [
    "from sklearn.model_selection import train_test_split as tts"
   ]
  },
  {
   "cell_type": "code",
   "execution_count": 24,
   "id": "c23740e4",
   "metadata": {},
   "outputs": [],
   "source": [
    "?tts"
   ]
  },
  {
   "cell_type": "code",
   "execution_count": 25,
   "id": "db1f7371",
   "metadata": {},
   "outputs": [],
   "source": [
    "x_fake= np.arange(10)"
   ]
  },
  {
   "cell_type": "code",
   "execution_count": 26,
   "id": "9747f3f7",
   "metadata": {},
   "outputs": [],
   "source": [
    "# Cria, de forma aleatória, um conjunto de dados pra treino e pra teste\n",
    "# Se não declarar, a divisão é feita 70-30%\n",
    "# test_size= definiu 50% do conjunto pra treino e teste\n",
    "# x_treino e x_valid = dados de entrada\n",
    "# y_treino e y_valid =  dados de previsão\n",
    "# equivalem a x, y respectivamente, já declaradas anteriormente \n",
    "np.random.seed(0)\n",
    "x_treino,  x_valid, y_treino, y_valid = tts(x, y, test_size=0.5)"
   ]
  },
  {
   "cell_type": "code",
   "execution_count": 27,
   "id": "095617fd",
   "metadata": {},
   "outputs": [
    {
     "data": {
      "text/plain": [
       "((445, 2), (446, 2), (445,), (446,))"
      ]
     },
     "execution_count": 27,
     "metadata": {},
     "output_type": "execute_result"
    }
   ],
   "source": [
    "x_treino.shape, x_valid.shape, y_treino.shape, y_valid.shape"
   ]
  },
  {
   "cell_type": "code",
   "execution_count": 28,
   "id": "9d905d7e",
   "metadata": {},
   "outputs": [
    {
     "data": {
      "text/plain": [
       "RandomForestClassifier(n_jobs=-1, random_state=0)"
      ]
     },
     "execution_count": 28,
     "metadata": {},
     "output_type": "execute_result"
    }
   ],
   "source": [
    "\n",
    "modelo=rndf(n_estimators=100, n_jobs=-1, random_state=0)\n",
    "modelo.fit(x_treino, y_treino)"
   ]
  },
  {
   "cell_type": "code",
   "execution_count": 29,
   "id": "ef584e03",
   "metadata": {},
   "outputs": [],
   "source": [
    "p=modelo.predict(x_valid)"
   ]
  },
  {
   "cell_type": "code",
   "execution_count": 30,
   "id": "2959db35",
   "metadata": {},
   "outputs": [
    {
     "data": {
      "text/plain": [
       "0.7690582959641256"
      ]
     },
     "execution_count": 30,
     "metadata": {},
     "output_type": "execute_result"
    }
   ],
   "source": [
    "#Acurácia\n",
    "np.mean(y_valid==p)"
   ]
  },
  {
   "cell_type": "markdown",
   "id": "498003e2",
   "metadata": {},
   "source": [
    "# VALIDAÇÃO CRUZARA\n"
   ]
  },
  {
   "cell_type": "code",
   "execution_count": 31,
   "id": "a9ca2eac",
   "metadata": {},
   "outputs": [],
   "source": [
    "from sklearn.model_selection import KFold\n",
    "from sklearn.model_selection import RepeatedKFold"
   ]
  },
  {
   "cell_type": "code",
   "execution_count": 32,
   "id": "e70f40df",
   "metadata": {},
   "outputs": [],
   "source": [
    "# ?KFold"
   ]
  },
  {
   "cell_type": "code",
   "execution_count": 33,
   "id": "4e361ea9",
   "metadata": {},
   "outputs": [
    {
     "name": "stdout",
     "output_type": "stream",
     "text": [
      "Média: \n",
      "0.759601451100922\n"
     ]
    }
   ],
   "source": [
    "resultados=[]\n",
    "for rep in range(10): \n",
    "    #print ('Rep: ',rep)\n",
    "    kf=RepeatedKFold(n_splits=2, n_repeats=10, random_state=10)\n",
    "\n",
    "    for l_treino, l_valid in kf.split(x):\n",
    "        #print('Treino:', l_treino.shape[0])\n",
    "        #print('Validação:', l_valid.shape[0])\n",
    "\n",
    "        x_treino, x_valid =x.iloc[l_treino], x.iloc[l_valid]\n",
    "        y_treino, y_valid = y.iloc[l_treino], y.iloc[l_valid]\n",
    "        #print(x_treino.head())\n",
    "\n",
    "        modelo=rndf(n_estimators=100, n_jobs=-1, random_state=0)\n",
    "        modelo.fit(x_treino, y_treino)\n",
    "\n",
    "        p=modelo.predict(x_valid)\n",
    "\n",
    "        acc=np.mean(y_valid==p)\n",
    "        resultados.append(acc)\n",
    "        #print('Acc: ', acc)\n",
    "        #print()\n",
    "\n",
    "print('Média: ')\n",
    "print(np.mean(resultados))"
   ]
  },
  {
   "cell_type": "code",
   "execution_count": 34,
   "id": "aeea8be9",
   "metadata": {
    "scrolled": true
   },
   "outputs": [],
   "source": [
    "#resultados=[]\n",
    "#for rep in range(10): \n",
    "#    print ('Rep: ',rep)\n",
    "#    kf=KFold(3, shuffle=True, random_state=rep)\n",
    "#\n",
    "#    for l_treino, l_valid in kf.split(x):\n",
    "#        print('Treino:', l_treino.shape[0])\n",
    "#        print('Validação:', l_valid.shape[0])\n",
    "#\n",
    "#        x_treino, x_valid =x.iloc[l_treino], x.iloc[l_valid]\n",
    "#        y_treino, y_valid = y.iloc[l_treino], y.iloc[l_valid]\n",
    "#        #print(x_treino.head())\n",
    "#\n",
    "#        modelo=rndf(n_estimators=100, n_jobs=-1, random_state=0)\n",
    "#        modelo.fit(x_treino, y_treino)\n",
    "#\n",
    "#        p=modelo.predict(x_valid)\n",
    "#\n",
    "#        acc=np.mean(y_valid==p)\n",
    "#        resultados.append(acc)\n",
    "#        print('Acc: ', acc)\n",
    "#        print()\n",
    "#\n",
    "#print('------------------------------')\n",
    "#print('Média: ')\n",
    "#print(np.mean(resultados))"
   ]
  },
  {
   "cell_type": "code",
   "execution_count": 35,
   "id": "c442a8a9",
   "metadata": {},
   "outputs": [
    {
     "name": "stdout",
     "output_type": "stream",
     "text": [
      "%pylab is deprecated, use %matplotlib inline and import the required libraries.\n",
      "Populating the interactive namespace from numpy and matplotlib\n"
     ]
    }
   ],
   "source": [
    "%matplotlib inline\n",
    "%pylab inline"
   ]
  },
  {
   "cell_type": "code",
   "execution_count": 36,
   "id": "cf457f3d",
   "metadata": {},
   "outputs": [
    {
     "data": {
      "text/plain": [
       "(array([20., 10., 30., 60., 40., 20., 10.,  0.,  0., 10.]),\n",
       " array([0.73542601, 0.74165869, 0.74789137, 0.75412405, 0.76035673,\n",
       "        0.76658941, 0.77282209, 0.77905477, 0.78528745, 0.79152013,\n",
       "        0.79775281]),\n",
       " <BarContainer object of 10 artists>)"
      ]
     },
     "execution_count": 36,
     "metadata": {},
     "output_type": "execute_result"
    },
    {
     "data": {
      "image/png": "[encoded data removed]",
      "text/plain": [
       "<Figure size 432x288 with 1 Axes>"
      ]
     },
     "metadata": {
      "needs_background": "light"
     },
     "output_type": "display_data"
    }
   ],
   "source": [
    "pylab.hist(resultados)"
   ]
  },
  {
   "cell_type": "markdown",
   "id": "8ce7ceb1",
   "metadata": {},
   "source": [
    "# NOVAS VARIAVEIS"
   ]
  },
  {
   "cell_type": "code",
   "execution_count": 37,
   "id": "7f08acdf",
   "metadata": {},
   "outputs": [
    {
     "data": {
      "text/html": [
       "<div>\n",
       "<style scoped>\n",
       "    .dataframe tbody tr th:only-of-type {\n",
       "        vertical-align: middle;\n",
       "    }\n",
       "\n",
       "    .dataframe tbody tr th {\n",
       "        vertical-align: top;\n",
       "    }\n",
       "\n",
       "    .dataframe thead th {\n",
       "        text-align: right;\n",
       "    }\n",
       "</style>\n",
       "<table border=\"1\" class=\"dataframe\">\n",
       "  <thead>\n",
       "    <tr style=\"text-align: right;\">\n",
       "      <th></th>\n",
       "      <th>PassengerId</th>\n",
       "      <th>Survived</th>\n",
       "      <th>Pclass</th>\n",
       "      <th>Name</th>\n",
       "      <th>Sex</th>\n",
       "      <th>Age</th>\n",
       "      <th>SibSp</th>\n",
       "      <th>Parch</th>\n",
       "      <th>Ticket</th>\n",
       "      <th>Fare</th>\n",
       "      <th>Cabin</th>\n",
       "      <th>Embarked</th>\n",
       "      <th>Sex_binario</th>\n",
       "    </tr>\n",
       "  </thead>\n",
       "  <tbody>\n",
       "    <tr>\n",
       "      <th>0</th>\n",
       "      <td>1</td>\n",
       "      <td>0</td>\n",
       "      <td>3</td>\n",
       "      <td>Braund, Mr. Owen Harris</td>\n",
       "      <td>male</td>\n",
       "      <td>22.0</td>\n",
       "      <td>1</td>\n",
       "      <td>0</td>\n",
       "      <td>A/5 21171</td>\n",
       "      <td>7.2500</td>\n",
       "      <td>NaN</td>\n",
       "      <td>S</td>\n",
       "      <td>0</td>\n",
       "    </tr>\n",
       "    <tr>\n",
       "      <th>1</th>\n",
       "      <td>2</td>\n",
       "      <td>1</td>\n",
       "      <td>1</td>\n",
       "      <td>Cumings, Mrs. John Bradley (Florence Briggs Th...</td>\n",
       "      <td>female</td>\n",
       "      <td>38.0</td>\n",
       "      <td>1</td>\n",
       "      <td>0</td>\n",
       "      <td>PC 17599</td>\n",
       "      <td>71.2833</td>\n",
       "      <td>C85</td>\n",
       "      <td>C</td>\n",
       "      <td>1</td>\n",
       "    </tr>\n",
       "    <tr>\n",
       "      <th>2</th>\n",
       "      <td>3</td>\n",
       "      <td>1</td>\n",
       "      <td>3</td>\n",
       "      <td>Heikkinen, Miss. Laina</td>\n",
       "      <td>female</td>\n",
       "      <td>26.0</td>\n",
       "      <td>0</td>\n",
       "      <td>0</td>\n",
       "      <td>STON/O2. 3101282</td>\n",
       "      <td>7.9250</td>\n",
       "      <td>NaN</td>\n",
       "      <td>S</td>\n",
       "      <td>1</td>\n",
       "    </tr>\n",
       "    <tr>\n",
       "      <th>3</th>\n",
       "      <td>4</td>\n",
       "      <td>1</td>\n",
       "      <td>1</td>\n",
       "      <td>Futrelle, Mrs. Jacques Heath (Lily May Peel)</td>\n",
       "      <td>female</td>\n",
       "      <td>35.0</td>\n",
       "      <td>1</td>\n",
       "      <td>0</td>\n",
       "      <td>113803</td>\n",
       "      <td>53.1000</td>\n",
       "      <td>C123</td>\n",
       "      <td>S</td>\n",
       "      <td>1</td>\n",
       "    </tr>\n",
       "    <tr>\n",
       "      <th>4</th>\n",
       "      <td>5</td>\n",
       "      <td>0</td>\n",
       "      <td>3</td>\n",
       "      <td>Allen, Mr. William Henry</td>\n",
       "      <td>male</td>\n",
       "      <td>35.0</td>\n",
       "      <td>0</td>\n",
       "      <td>0</td>\n",
       "      <td>373450</td>\n",
       "      <td>8.0500</td>\n",
       "      <td>NaN</td>\n",
       "      <td>S</td>\n",
       "      <td>0</td>\n",
       "    </tr>\n",
       "  </tbody>\n",
       "</table>\n",
       "</div>"
      ],
      "text/plain": [
       "   PassengerId  Survived  Pclass  \\\n",
       "0            1         0       3   \n",
       "1            2         1       1   \n",
       "2            3         1       3   \n",
       "3            4         1       1   \n",
       "4            5         0       3   \n",
       "\n",
       "                                                Name     Sex   Age  SibSp  \\\n",
       "0                            Braund, Mr. Owen Harris    male  22.0      1   \n",
       "1  Cumings, Mrs. John Bradley (Florence Briggs Th...  female  38.0      1   \n",
       "2                             Heikkinen, Miss. Laina  female  26.0      0   \n",
       "3       Futrelle, Mrs. Jacques Heath (Lily May Peel)  female  35.0      1   \n",
       "4                           Allen, Mr. William Henry    male  35.0      0   \n",
       "\n",
       "   Parch            Ticket     Fare Cabin Embarked  Sex_binario  \n",
       "0      0         A/5 21171   7.2500   NaN        S            0  \n",
       "1      0          PC 17599  71.2833   C85        C            1  \n",
       "2      0  STON/O2. 3101282   7.9250   NaN        S            1  \n",
       "3      0            113803  53.1000  C123        S            1  \n",
       "4      0            373450   8.0500   NaN        S            0  "
      ]
     },
     "execution_count": 37,
     "metadata": {},
     "output_type": "execute_result"
    }
   ],
   "source": [
    "train.head(5)"
   ]
  },
  {
   "cell_type": "code",
   "execution_count": 38,
   "id": "ea82b247",
   "metadata": {},
   "outputs": [],
   "source": [
    "variaveis2=['Sex_binario', 'Age', 'Pclass', 'SibSp', 'Parch', 'Fare']"
   ]
  },
  {
   "cell_type": "code",
   "execution_count": 39,
   "id": "5f3e2538",
   "metadata": {},
   "outputs": [],
   "source": [
    "Z=train[variaveis2].fillna(-1)\n",
    "J=train['Survived']"
   ]
  },
  {
   "cell_type": "code",
   "execution_count": 40,
   "id": "06aff293",
   "metadata": {},
   "outputs": [],
   "source": [
    "np.random.seed(1)\n",
    "x_treino,  x_valid, y_treino, y_valid = tts(Z, J, test_size=0.5)"
   ]
  },
  {
   "cell_type": "code",
   "execution_count": 41,
   "id": "037e4e07",
   "metadata": {},
   "outputs": [],
   "source": [
    "?RepeatedKFold"
   ]
  },
  {
   "cell_type": "code",
   "execution_count": 42,
   "id": "902df4c9",
   "metadata": {},
   "outputs": [
    {
     "name": "stdout",
     "output_type": "stream",
     "text": [
      "------------------------------\n",
      "Média: \n",
      "0.7981987202096035\n"
     ]
    }
   ],
   "source": [
    "resultados=[]\n",
    "for rep in range(10): \n",
    "    #print ('Rep: ',rep)\n",
    "    kf=RepeatedKFold(n_splits=2, n_repeats=5, random_state=10)\n",
    "\n",
    "    for l_treino, l_valid in kf.split(Z):\n",
    "        #print('Treino:', l_treino.shape[0])\n",
    "        #print('Validação:', l_valid.shape[0])\n",
    "\n",
    "        x_treino, x_valid =Z.iloc[l_treino], Z.iloc[l_valid]\n",
    "        y_treino, y_valid = J.iloc[l_treino], J.iloc[l_valid]\n",
    "        #print(x_treino.head())\n",
    "\n",
    "        modelo=rndf(n_estimators=100, n_jobs=-1, random_state=0)\n",
    "        modelo.fit(x_treino, y_treino)\n",
    "\n",
    "        p=modelo.predict(x_valid)\n",
    "\n",
    "        acc=np.mean(y_valid==p)\n",
    "        resultados.append(acc)\n",
    "        #print('Acc: ', acc)\n",
    "        #print()\n",
    "\n",
    "print('------------------------------')\n",
    "print('Média: ')\n",
    "print(np.mean(resultados))"
   ]
  },
  {
   "cell_type": "code",
   "execution_count": 43,
   "id": "3dd72460",
   "metadata": {},
   "outputs": [
    {
     "data": {
      "text/plain": [
       "(array([30., 20.,  0.,  0., 20.,  0.,  0., 10., 10., 10.]),\n",
       " array([0.77977528, 0.78453318, 0.78929108, 0.79404897, 0.79880687,\n",
       "        0.80356477, 0.80832267, 0.81308057, 0.81783846, 0.82259636,\n",
       "        0.82735426]),\n",
       " <BarContainer object of 10 artists>)"
      ]
     },
     "execution_count": 43,
     "metadata": {},
     "output_type": "execute_result"
    },
    {
     "data": {
      "image/png": "[encoded data removed]",
      "text/plain": [
       "<Figure size 432x288 with 1 Axes>"
      ]
     },
     "metadata": {
      "needs_background": "light"
     },
     "output_type": "display_data"
    }
   ],
   "source": [
    "pylab.hist(resultados)"
   ]
  },
  {
   "cell_type": "code",
   "execution_count": 44,
   "id": "4d6a5a08",
   "metadata": {},
   "outputs": [],
   "source": [
    "modelo=rndf(n_estimators=100, n_jobs=-1, random_state=0)\n",
    "modelo.fit(Z, J)\n",
    "\n",
    "p=modelo.predict(test[variaveis2].fillna(-1))"
   ]
  },
  {
   "cell_type": "markdown",
   "id": "d0a59a5d",
   "metadata": {},
   "source": [
    "Criando nova submission "
   ]
  },
  {
   "cell_type": "code",
   "execution_count": 45,
   "id": "2c618819",
   "metadata": {},
   "outputs": [
    {
     "data": {
      "text/plain": [
       "(418,)"
      ]
     },
     "execution_count": 45,
     "metadata": {},
     "output_type": "execute_result"
    }
   ],
   "source": [
    "sub = pd.Series(p, index=test['PassengerId'], name='Survived')\n",
    "sub.shape"
   ]
  },
  {
   "cell_type": "code",
   "execution_count": 46,
   "id": "c3d47226",
   "metadata": {},
   "outputs": [],
   "source": [
    "sub.to_csv('Modelo2.csv', header=True)"
   ]
  },
  {
   "cell_type": "markdown",
   "id": "eacfe35f",
   "metadata": {},
   "source": [
    "# Será que o porto tem algo com a sobrevivência?\n"
   ]
  },
  {
   "cell_type": "code",
   "execution_count": 47,
   "id": "a8344bf0",
   "metadata": {},
   "outputs": [],
   "source": [
    "import seaborn as sns"
   ]
  },
  {
   "cell_type": "code",
   "execution_count": 48,
   "id": "1ea3a521",
   "metadata": {},
   "outputs": [
    {
     "data": {
      "text/plain": [
       "<AxesSubplot:xlabel='Embarked', ylabel='Survived'>"
      ]
     },
     "execution_count": 48,
     "metadata": {},
     "output_type": "execute_result"
    },
    {
     "data": {
      "image/png": "[encoded data removed]",
      "text/plain": [
       "<Figure size 432x288 with 1 Axes>"
      ]
     },
     "metadata": {
      "needs_background": "light"
     },
     "output_type": "display_data"
    }
   ],
   "source": [
    "sns.barplot(x=train.Embarked, y=train.Survived, data=train)"
   ]
  },
  {
   "cell_type": "code",
   "execution_count": 49,
   "id": "d3b9fa4a",
   "metadata": {},
   "outputs": [],
   "source": [
    "porto_sobrevivencia=['Embarked', 'Survived']"
   ]
  },
  {
   "cell_type": "code",
   "execution_count": 50,
   "id": "beda1d5f",
   "metadata": {},
   "outputs": [],
   "source": [
    "def porto1 (valor):\n",
    "    if valor =='C':\n",
    "        return 1\n",
    "    else:\n",
    "        return 0"
   ]
  },
  {
   "cell_type": "code",
   "execution_count": 51,
   "id": "3d271be1",
   "metadata": {},
   "outputs": [],
   "source": [
    "def porto2 (valor):\n",
    "    if valor =='S':\n",
    "        return 1\n",
    "    else:\n",
    "        return 0"
   ]
  },
  {
   "cell_type": "code",
   "execution_count": 52,
   "id": "135d48b3",
   "metadata": {},
   "outputs": [],
   "source": [
    "train['Porto1']=train['Embarked'].map(porto1)"
   ]
  },
  {
   "cell_type": "code",
   "execution_count": 53,
   "id": "17235405",
   "metadata": {},
   "outputs": [],
   "source": [
    "train['Porto2']=train['Embarked'].map(porto2)"
   ]
  },
  {
   "cell_type": "code",
   "execution_count": 54,
   "id": "44a4607c",
   "metadata": {},
   "outputs": [],
   "source": [
    "variaveis3=['Sex_binario', 'Age', 'Pclass', 'SibSp', 'Parch', 'Fare', 'Porto1', 'Porto2']"
   ]
  },
  {
   "cell_type": "code",
   "execution_count": 55,
   "id": "625e04df",
   "metadata": {},
   "outputs": [],
   "source": [
    "I=train[variaveis3].fillna(-1)\n",
    "L=train['Survived']"
   ]
  },
  {
   "cell_type": "code",
   "execution_count": 56,
   "id": "ad6e8427",
   "metadata": {},
   "outputs": [],
   "source": [
    "np.random.seed(1)\n",
    "x_treino,  x_valid, y_treino, y_valid = tts(I, L, test_size=0.5)"
   ]
  },
  {
   "cell_type": "code",
   "execution_count": 57,
   "id": "34b7e827",
   "metadata": {},
   "outputs": [
    {
     "name": "stdout",
     "output_type": "stream",
     "text": [
      "------------------------------\n",
      "Média: \n",
      "0.7919131354864715\n"
     ]
    }
   ],
   "source": [
    "resultados=[]\n",
    "for rep in range(10): \n",
    "    #print ('Rep: ',rep)\n",
    "    kf=RepeatedKFold(n_splits=2, n_repeats=5, random_state=10)\n",
    "\n",
    "    for l_treino, l_valid in kf.split(I):\n",
    "        \n",
    "        x_treino, x_valid =I.iloc[l_treino], I.iloc[l_valid]\n",
    "        y_treino, y_valid = L.iloc[l_treino], L.iloc[l_valid]\n",
    "        #print(x_treino.head())\n",
    "\n",
    "        modelo=rndf(n_estimators=100, n_jobs=-1, random_state=0)\n",
    "        modelo.fit(x_treino, y_treino)\n",
    "\n",
    "        p=modelo.predict(x_valid)\n",
    "\n",
    "        acc=np.mean(y_valid==p)\n",
    "        resultados.append(acc)\n",
    "        #print('Acc: ', acc)\n",
    "        #print()\n",
    "\n",
    "print('------------------------------')\n",
    "print('Média: ')\n",
    "print(np.mean(resultados))"
   ]
  },
  {
   "cell_type": "markdown",
   "id": "d8b82499",
   "metadata": {},
   "source": [
    "# E os nomes?"
   ]
  },
  {
   "cell_type": "code",
   "execution_count": 59,
   "id": "fef1ca65",
   "metadata": {},
   "outputs": [],
   "source": [
    "Nomes = []\n",
    "for i in range(0,len(train.Name)):\n",
    "    #Nomes.append(i.split()[:1])\n",
    "    Nomes.append(train.Name[i].split(',')[:1][0])"
   ]
  },
  {
   "cell_type": "code",
   "execution_count": 60,
   "id": "b0d8c84d",
   "metadata": {},
   "outputs": [],
   "source": [
    "Titulo= []\n",
    "for i in range(0,len(train.Name)):\n",
    "    #itulo.append\n",
    "    Titulo.append(train.Name[i].split()[1:2][0])\n",
    "    #(i.split()[:1])\n",
    "    #print(Titulo)"
   ]
  },
  {
   "cell_type": "code",
   "execution_count": 61,
   "id": "01322432",
   "metadata": {},
   "outputs": [
    {
     "name": "stdout",
     "output_type": "stream",
     "text": [
      "['Mr.', 'Mrs.', 'Miss.', 'Mrs.', 'Mr.', 'Mr.', 'Mr.', 'Master.', 'Mrs.', 'Mrs.', 'Miss.', 'Miss.', 'Mr.', 'Mr.', 'Miss.', 'Mrs.', 'Master.', 'Mr.', 'Planke,', 'Mrs.', 'Mr.', 'Mr.', 'Miss.', 'Mr.', 'Miss.', 'Mrs.', 'Mr.', 'Mr.', 'Miss.', 'Mr.', 'Don.', 'Mrs.', 'Miss.', 'Mr.', 'Mr.', 'Mr.', 'Mr.', 'Mr.', 'Planke,', 'Miss.', 'Mrs.', 'Mrs.', 'Mr.', 'Miss.', 'Miss.', 'Mr.', 'Mr.', 'Miss.', 'Mr.', 'Mrs.', 'Master.', 'Mr.', 'Mrs.', 'Mrs.', 'Mr.', 'Mr.', 'Miss.', 'Mr.', 'Miss.', 'Master.', 'Mr.', 'Miss.', 'Mr.', 'Master.', 'Mr.', 'Master.', 'Mrs.', 'Mr.', 'Miss.', 'Mr.', 'Mr.', 'Miss.', 'Mr.', 'Mr.', 'Mr.', 'Mr.', 'Mr.', 'Mr.', 'Master.', 'Miss.', 'Mr.', 'Mr.', 'Miss.', 'Mr.', 'Miss.', 'Mrs.', 'Mr.', 'Mr.', 'Miss.', 'Mr.', 'Mr.', 'Mr.', 'Mr.', 'Mr.', 'Mr.', 'Mr.', 'Mr.', 'Mr.', 'Mrs.', 'Mr.', 'Miss.', 'Mr.', 'Mr.', 'Mr.', 'Mr.', 'Mr.', 'Miss.', 'Mr.', 'Mr.', 'Miss.', 'Mr.', 'Miss.', 'Mr.', 'Miss.', 'Miss.', 'Mr.', 'Mr.', 'Mr.', 'Mr.', 'Miss.', 'Mr.', 'Mr.', 'Mr.', 'Miss.', 'Mr.', 'Master.', 'Mr.', 'Mr.', 'Miss.', 'Mr.', 'Mr.', 'Mr.', 'Mrs.', 'Mrs.', 'Mr.', 'Mr.', 'Miss.', 'Mr.', 'Mr.', 'Mr.', 'Mrs.', 'Miss.', 'Mrs.', 'Mr.', 'Mr.', 'Mr.', 'Mr.', 'Miss.', 'Mr.', 'Rev.', 'Rev.', 'Mrs.', 'Mr.', 'Billiard,', 'Mr.', 'Mr.', 'Miss.', 'Mr.', 'Mr.', 'Master.', 'Mr.', 'Mrs.', 'Mr.', 'Mr.', 'Master.', 'Master.', 'Mrs.', 'Mrs.', 'Mr.', 'Mr.', 'der', 'Master.', 'Miss.', 'Mr.', 'Mr.', 'Mr.', 'Master.', 'Miss.', 'Mr.', 'Mr.', 'Miss.', 'Mr.', 'Master.', 'Master.', 'Miss.', 'Mr.', 'Mrs.', 'Mr.', 'Mr.', 'Mr.', 'Mrs.', 'Mr.', 'Miss.', 'Master.', 'Mrs.', 'Miss.', 'Mr.', 'Mr.', 'Miss.', 'Miss.', 'Walle,', 'Mr.', 'Mr.', 'Mr.', 'Mr.', 'Miss.', 'Mr.', 'Mr.', 'Miss.', 'Mr.', 'Mr.', 'Miss.', 'Mr.', 'Mr.', 'Mr.', 'Miss.', 'Miss.', 'Mr.', 'Miss.', 'Mr.', 'Mr.', 'Mr.', 'Mr.', 'Mr.', 'Mr.', 'Mr.', 'Mr.', 'Mr.', 'Mr.', 'Miss.', 'Mrs.', 'Mr.', 'Mr.', 'Miss.', 'Mr.', 'Miss.', 'Mr.', 'Miss.', 'Mr.', 'Mr.', 'Miss.', 'Miss.', 'Mr.', 'Mr.', 'Mr.', 'Dr.', 'Miss.', 'Mrs.', 'Mr.', 'Rev.', 'Mr.', 'Mrs.', 'Mr.', 'Mr.', 'Mrs.', 'Mrs.', 'Mrs.', 'Miss.', 'Miss.', 'Mrs.', 'Mr.', 'Master.', 'Mr.', 'Mr.', 'Miss.', 'Mr.', 'Mr.', 'Mr.', 'Mrs.', 'Miss.', 'Mr.', 'Mr.', 'Mrs.', 'Mr.', 'Miss.', 'Miss.', 'Miss.', 'Mr.', 'Master.', 'Mrs.', 'Mr.', 'Mr.', 'Pelsmaeker,', 'Mr.', 'Mr.', 'Mr.', 'Mulder,', 'Mr.', 'Mr.', 'Miss.', 'Miss.', 'Mrs.', 'Mr.', 'Miss.', 'Mr.', 'Mr.', 'Mr.', 'Miss.', 'Mr.', 'Mrs.', 'Miss.', 'Mr.', 'Mr.', 'Miss.', 'Mr.', 'Master.', 'Miss.', 'y', 'Mr.', 'Miss.', 'Miss.', 'Miss.', 'Mrs.', 'Mr.', 'Mr.', 'Miss.', 'Mrs.', 'Dr.', 'Miss.', 'Mrs.', 'Mr.', 'Mr.', 'Miss.', 'Mrs.', 'Mr.', 'Miss.', 'Mr.', 'Mrs.', 'Mrs.', 'Miss.', 'Miss.', 'Mr.', 'Mr.', 'Planke,', 'Mrs.', 'Mr.', 'Mr.', 'Miss.', 'Mr.', 'Mr.', 'Master.', 'Miss.', 'Mr.', 'Mr.', 'Mr.', 'Miss.', 'Miss.', 'Mrs.', 'Master.', 'Mr.', 'Mr.', 'Mr.', 'Mr.', 'Mr.', 'Mr.', 'Steen,', 'Miss.', 'Miss.', 'Miss.', 'Miss.', 'Mr.', 'Carlo,', 'Mrs.', 'Mr.', 'Mr.', 'Mr.', 'Mrs.', 'Mrs.', 'Miss.', 'Mme.', 'Mr.', 'Mr.', 'Mr.', 'Mr.', 'Miss.', 'Mrs.', 'Miss.', 'Mr.', 'Mr.', 'Mr.', 'Miss.', 'Miss.', 'Mr.', 'Mrs.', 'Mr.', 'Mr.', 'Master.', 'Miss.', 'Mr.', 'Miss.', 'Mr.', 'Mr.', 'Mr.', 'Miss.', 'Mrs.', 'Mr.', 'Miss.', 'Mr.', 'Dr.', 'Mrs.', 'Mr.', 'Mr.', 'Miss.', 'Mr.', 'Miss.', 'Mr.', 'Mr.', 'Master.', 'Mr.', 'Miss.', 'Mr.', 'Mr.', 'Miss.', 'Mr.', 'Mr.', 'Mrs.', 'Mrs.', 'Miss.', 'Mr.', 'Impe,', 'Mr.', 'Mr.', 'Mr.', 'Mrs.', 'Mr.', 'Mr.', 'Mrs.', 'Miss.', 'Mr.', 'Mr.', 'Mr.', 'Mrs.', 'Mrs.', 'Mr.', 'Mr.', 'Miss.', 'Miss.', 'Mrs.', 'Mr.', 'Mr.', 'Mrs.', 'Mr.', 'Mr.', 'Ms.', 'Mr.', 'Master.', 'Miss.', 'Mr.', 'Miss.', 'Major.', 'Mr.', 'Mr.', 'Mr.', 'Mr.', 'Mr.', 'Mr.', 'Mr.', 'Mrs.', 'Miss.', 'Mr.', 'Mr.', 'Mr.', 'Mr.', 'Mr.', 'Mr.', 'Mr.', 'Mr.', 'Mr.', 'Mr.', 'Miss.', 'Mr.', 'Mr.', 'Mrs.', 'Mrs.', 'Miss.', 'Mr.', 'Mr.', 'Mr.', 'Mr.', 'Miss.', 'Master.', 'Mr.', 'Mr.', 'Mrs.', 'Mr.', 'Miss.', 'Mrs.', 'Mr.', 'Mr.', 'Master.', 'Mr.', 'Mr.', 'Mr.', 'Mr.', 'Mr.', 'Mr.', 'Miss.', 'Mr.', 'Mrs.', 'Mr.', 'Mr.', 'Miss.', 'Miss.', 'Miss.', 'Miss.', 'y', 'Mrs.', 'Mr.', 'Mr.', 'Mr.', 'Mr.', 'Mr.', 'Mr.', 'Mrs.', 'Mr.', 'Mr.', 'Mrs.', 'Mr.', 'Mrs.', 'Mr.', 'Miss.', 'Mr.', 'Mr.', 'Mrs.', 'Mr.', 'Mr.', 'Miss.', 'Mr.', 'Mr.', 'Mr.', 'Miss.', 'Mr.', 'Mr.', 'Mrs.', 'Miss.', 'Miss.', 'Major.', 'Miss.', 'Mr.', 'Miss.', 'Miss.', 'Miss.', 'Miss.', 'Mr.', 'Mr.', 'Mr.', 'Mrs.', 'y', 'Mr.', 'Master.', 'Mr.', 'Mr.', 'Mr.', 'Mr.', 'Miss.', 'Mr.', 'Gordon,', 'Mr.', 'Mrs.', 'Messemaeker,', 'Mr.', 'Mr.', 'Mr.', 'Mr.', 'Miss.', 'Mr.', 'Mr.', 'Mrs.', 'Mr.', 'Mr.', 'Mr.', 'Mrs.', 'Mr.', 'Miss.', 'Mr.', 'Mr.', 'Miss.', 'Mrs.', 'Mrs.', 'Mr.', 'Miss.', 'Mrs.', 'Mr.', 'Mr.', 'Mr.', 'Miss.', 'Mr.', 'Mr.', 'Mr.', 'Mr.', 'Mr.', 'Mrs.', 'Mr.', 'Miss.', 'Mr.', 'Impe,', 'Miss.', 'Mr.', 'Mr.', 'Gordon,', 'Mrs.', 'Mr.', 'Mr.', 'Mr.', 'Mr.', 'Mr.', 'Mr.', 'Mr.', 'Mrs.', 'Miss.', 'Mrs.', 'Mr.', 'Miss.', 'Mr.', 'Mr.', 'Miss.', 'Mr.', 'Mrs.', 'Miss.', 'Mr.', 'Mr.', 'Mr.', 'Mr.', 'Mr.', 'Mr.', 'Mr.', 'Rev.', 'Miss.', 'Mr.', 'Mr.', 'Mr.', 'Mr.', 'Dr.', 'Mr.', 'Miss.', 'Miss.', 'Mr.', 'Mr.', 'Mrs.', 'Mr.', 'Mr.', 'Mlle.', 'Miss.', 'Mr.', 'Miss.', 'Mr.', 'Mr.', 'Col.', 'Mr.', 'Miss.', 'Mr.', 'Miss.', 'Mr.', 'Miss.', 'Miss.', 'Mr.', 'Mr.', 'Mrs.', 'Mr.', 'Mr.', 'Dr.', 'Mr.', 'Mr.', 'Mr.', 'Mr.', 'Mr.', 'Mr.', 'Mr.', 'Mr.', 'Mrs.', 'Mrs.', 'Mr.', 'Mr.', 'Mr.', 'Mr.', 'Mr.', 'Mr.', 'Miss.', 'Mrs.', 'Mr.', 'Miss.', 'Mr.', 'Mr.', 'Mr.', 'Mr.', 'Mr.', 'Mr.', 'Mr.', 'Mr.', 'Miss.', 'Mr.', 'Miss.', 'Mr.', 'Mr.', 'Col.', 'Mr.', 'Mr.', 'Miss.', 'Mr.', 'Mr.', 'Mrs.', 'Mr.', 'Miss.', 'Mr.', 'Mr.', 'Mr.', 'Mrs.', 'Mr.', 'Miss.', 'Master.', 'Mlle.', 'Mr.', 'Mr.', 'Mr.', 'Mr.', 'Mr.', 'Miss.', 'Miss.', 'Mr.', 'Mr.', 'Miss.', 'Mr.', 'Mr.', 'Mr.', 'Mr.', 'Mr.', 'Mrs.', 'Miss.', 'Mr.', 'Miss.', 'Miss.', 'Mr.', 'Mr.', 'Mr.', 'Mr.', 'Mr.', 'Mrs.', 'Mr.', 'Mr.', 'Mr.', 'Mr.', 'Mr.', 'Miss.', 'Mr.', 'Mr.', 'Capt.', 'Mr.', 'Miss.', 'Mr.', 'Mr.', 'Miss.', 'Master.', 'Velde,', 'Mr.', 'Mrs.', 'Master.', 'Mr.', 'Mr.', 'Mr.', 'the', 'Mr.', 'Mr.', 'Mr.', 'Mrs.', 'Mr.', 'Mrs.', 'Dr.', 'Miss.', 'Mr.', 'Mr.', 'Mr.', 'Mr.', 'Mrs.', 'Mr.', 'Mrs.', 'Mr.', 'Mr.', 'Miss.', 'Mr.', 'Mrs.', 'Miss.', 'Mrs.', 'Mr.', 'Mr.', 'Mr.', 'Mr.', 'Miss.', 'Master.', 'Master.', 'Mr.', 'Mr.', 'Mr.', 'Miss.', 'Mr.', 'Mr.', 'Mr.', 'Dr.', 'Mrs.', 'Shawah,', 'Impe,', 'Mr.', 'Mrs.', 'Master.', 'Master.', 'Mr.', 'Mr.', 'Mr.', 'Miss.', 'Mr.', 'Mrs.', 'Mr.', 'Mr.', 'Mr.', 'Miss.', 'Mr.', 'Mr.', 'Miss.', 'Mr.', 'Mr.', 'Master.', 'Mrs.', 'Mr.', 'Jonkheer.', 'Mrs.', 'Master.', 'Mr.', 'Mr.', 'Master.', 'Mr.', 'Mrs.', 'Mrs.', 'Master.', 'Mr.', 'Mr.', 'Mr.', 'Miss.', 'Mr.', 'Mr.', 'Mr.', 'Mr.', 'Mr.', 'Mr.', 'Miss.', 'Mr.', 'Mr.', 'Mr.', 'Mr.', 'Mr.', 'Rev.', 'Mrs.', 'Master.', 'Mr.', 'Miss.', 'Miss.', 'Mrs.', 'Mrs.', 'Mrs.', 'Mr.', 'Mrs.', 'Mr.', 'Mr.', 'Mr.', 'Mrs.', 'Miss.', 'Mr.', 'Mrs.', 'y', 'Mr.', 'Melkebeke,', 'Master.', 'Mr.', 'Mrs.', 'Mr.', 'Cruyssen,', 'Mrs.', 'Miss.', 'Mr.', 'Mr.', 'Mr.', 'Mrs.', 'Mrs.', 'Mr.', 'Miss.', 'Mr.', 'Mr.', 'Mrs.', 'Rev.', 'Miss.', 'Miss.', 'Mr.', 'Mr.']\n"
     ]
    }
   ],
   "source": [
    "print(Titulo)"
   ]
  },
  {
   "cell_type": "code",
   "execution_count": 66,
   "id": "4aa1278f",
   "metadata": {},
   "outputs": [
    {
     "ename": "AttributeError",
     "evalue": "'list' object has no attribute 'groupby'",
     "output_type": "error",
     "traceback": [
      "\u001b[1;31m---------------------------------------------------------------------------\u001b[0m",
      "\u001b[1;31mAttributeError\u001b[0m                            Traceback (most recent call last)",
      "Input \u001b[1;32mIn [66]\u001b[0m, in \u001b[0;36m<cell line: 2>\u001b[1;34m()\u001b[0m\n\u001b[0;32m      1\u001b[0m titulo_sobrevivencia\u001b[38;5;241m=\u001b[39m[train\u001b[38;5;241m.\u001b[39mSurvived, Titulo]\n\u001b[1;32m----> 2\u001b[0m \u001b[43mtitulo_sobrevivencia\u001b[49m\u001b[38;5;241;43m.\u001b[39;49m\u001b[43mgroupby\u001b[49m([\u001b[38;5;124m'\u001b[39m\u001b[38;5;124mTitulo\u001b[39m\u001b[38;5;124m'\u001b[39m])\u001b[38;5;241m.\u001b[39msize()\n",
      "\u001b[1;31mAttributeError\u001b[0m: 'list' object has no attribute 'groupby'"
     ]
    }
   ],
   "source": [
    "titulo_sobrevivencia=[train.Survived, Titulo]\n",
    "titulo_sobrevivencia.groupby(['Titulo']).size()\n",
    "#sns.barplot(x=train.Titulo, y=train.Survived, datau=titlo_sobrevivencia)"
   ]
  },
  {
   "cell_type": "code",
   "execution_count": 65,
   "id": "2145e8b8",
   "metadata": {},
   "outputs": [
    {
     "name": "stdout",
     "output_type": "stream",
     "text": [
      "[0      0\n",
      "1      1\n",
      "2      1\n",
      "3      1\n",
      "4      0\n",
      "      ..\n",
      "886    0\n",
      "887    1\n",
      "888    0\n",
      "889    1\n",
      "890    0\n",
      "Name: Survived, Length: 891, dtype: int64, ['Mr.', 'Mrs.', 'Miss.', 'Mrs.', 'Mr.', 'Mr.', 'Mr.', 'Master.', 'Mrs.', 'Mrs.', 'Miss.', 'Miss.', 'Mr.', 'Mr.', 'Miss.', 'Mrs.', 'Master.', 'Mr.', 'Planke,', 'Mrs.', 'Mr.', 'Mr.', 'Miss.', 'Mr.', 'Miss.', 'Mrs.', 'Mr.', 'Mr.', 'Miss.', 'Mr.', 'Don.', 'Mrs.', 'Miss.', 'Mr.', 'Mr.', 'Mr.', 'Mr.', 'Mr.', 'Planke,', 'Miss.', 'Mrs.', 'Mrs.', 'Mr.', 'Miss.', 'Miss.', 'Mr.', 'Mr.', 'Miss.', 'Mr.', 'Mrs.', 'Master.', 'Mr.', 'Mrs.', 'Mrs.', 'Mr.', 'Mr.', 'Miss.', 'Mr.', 'Miss.', 'Master.', 'Mr.', 'Miss.', 'Mr.', 'Master.', 'Mr.', 'Master.', 'Mrs.', 'Mr.', 'Miss.', 'Mr.', 'Mr.', 'Miss.', 'Mr.', 'Mr.', 'Mr.', 'Mr.', 'Mr.', 'Mr.', 'Master.', 'Miss.', 'Mr.', 'Mr.', 'Miss.', 'Mr.', 'Miss.', 'Mrs.', 'Mr.', 'Mr.', 'Miss.', 'Mr.', 'Mr.', 'Mr.', 'Mr.', 'Mr.', 'Mr.', 'Mr.', 'Mr.', 'Mr.', 'Mrs.', 'Mr.', 'Miss.', 'Mr.', 'Mr.', 'Mr.', 'Mr.', 'Mr.', 'Miss.', 'Mr.', 'Mr.', 'Miss.', 'Mr.', 'Miss.', 'Mr.', 'Miss.', 'Miss.', 'Mr.', 'Mr.', 'Mr.', 'Mr.', 'Miss.', 'Mr.', 'Mr.', 'Mr.', 'Miss.', 'Mr.', 'Master.', 'Mr.', 'Mr.', 'Miss.', 'Mr.', 'Mr.', 'Mr.', 'Mrs.', 'Mrs.', 'Mr.', 'Mr.', 'Miss.', 'Mr.', 'Mr.', 'Mr.', 'Mrs.', 'Miss.', 'Mrs.', 'Mr.', 'Mr.', 'Mr.', 'Mr.', 'Miss.', 'Mr.', 'Rev.', 'Rev.', 'Mrs.', 'Mr.', 'Billiard,', 'Mr.', 'Mr.', 'Miss.', 'Mr.', 'Mr.', 'Master.', 'Mr.', 'Mrs.', 'Mr.', 'Mr.', 'Master.', 'Master.', 'Mrs.', 'Mrs.', 'Mr.', 'Mr.', 'der', 'Master.', 'Miss.', 'Mr.', 'Mr.', 'Mr.', 'Master.', 'Miss.', 'Mr.', 'Mr.', 'Miss.', 'Mr.', 'Master.', 'Master.', 'Miss.', 'Mr.', 'Mrs.', 'Mr.', 'Mr.', 'Mr.', 'Mrs.', 'Mr.', 'Miss.', 'Master.', 'Mrs.', 'Miss.', 'Mr.', 'Mr.', 'Miss.', 'Miss.', 'Walle,', 'Mr.', 'Mr.', 'Mr.', 'Mr.', 'Miss.', 'Mr.', 'Mr.', 'Miss.', 'Mr.', 'Mr.', 'Miss.', 'Mr.', 'Mr.', 'Mr.', 'Miss.', 'Miss.', 'Mr.', 'Miss.', 'Mr.', 'Mr.', 'Mr.', 'Mr.', 'Mr.', 'Mr.', 'Mr.', 'Mr.', 'Mr.', 'Mr.', 'Miss.', 'Mrs.', 'Mr.', 'Mr.', 'Miss.', 'Mr.', 'Miss.', 'Mr.', 'Miss.', 'Mr.', 'Mr.', 'Miss.', 'Miss.', 'Mr.', 'Mr.', 'Mr.', 'Dr.', 'Miss.', 'Mrs.', 'Mr.', 'Rev.', 'Mr.', 'Mrs.', 'Mr.', 'Mr.', 'Mrs.', 'Mrs.', 'Mrs.', 'Miss.', 'Miss.', 'Mrs.', 'Mr.', 'Master.', 'Mr.', 'Mr.', 'Miss.', 'Mr.', 'Mr.', 'Mr.', 'Mrs.', 'Miss.', 'Mr.', 'Mr.', 'Mrs.', 'Mr.', 'Miss.', 'Miss.', 'Miss.', 'Mr.', 'Master.', 'Mrs.', 'Mr.', 'Mr.', 'Pelsmaeker,', 'Mr.', 'Mr.', 'Mr.', 'Mulder,', 'Mr.', 'Mr.', 'Miss.', 'Miss.', 'Mrs.', 'Mr.', 'Miss.', 'Mr.', 'Mr.', 'Mr.', 'Miss.', 'Mr.', 'Mrs.', 'Miss.', 'Mr.', 'Mr.', 'Miss.', 'Mr.', 'Master.', 'Miss.', 'y', 'Mr.', 'Miss.', 'Miss.', 'Miss.', 'Mrs.', 'Mr.', 'Mr.', 'Miss.', 'Mrs.', 'Dr.', 'Miss.', 'Mrs.', 'Mr.', 'Mr.', 'Miss.', 'Mrs.', 'Mr.', 'Miss.', 'Mr.', 'Mrs.', 'Mrs.', 'Miss.', 'Miss.', 'Mr.', 'Mr.', 'Planke,', 'Mrs.', 'Mr.', 'Mr.', 'Miss.', 'Mr.', 'Mr.', 'Master.', 'Miss.', 'Mr.', 'Mr.', 'Mr.', 'Miss.', 'Miss.', 'Mrs.', 'Master.', 'Mr.', 'Mr.', 'Mr.', 'Mr.', 'Mr.', 'Mr.', 'Steen,', 'Miss.', 'Miss.', 'Miss.', 'Miss.', 'Mr.', 'Carlo,', 'Mrs.', 'Mr.', 'Mr.', 'Mr.', 'Mrs.', 'Mrs.', 'Miss.', 'Mme.', 'Mr.', 'Mr.', 'Mr.', 'Mr.', 'Miss.', 'Mrs.', 'Miss.', 'Mr.', 'Mr.', 'Mr.', 'Miss.', 'Miss.', 'Mr.', 'Mrs.', 'Mr.', 'Mr.', 'Master.', 'Miss.', 'Mr.', 'Miss.', 'Mr.', 'Mr.', 'Mr.', 'Miss.', 'Mrs.', 'Mr.', 'Miss.', 'Mr.', 'Dr.', 'Mrs.', 'Mr.', 'Mr.', 'Miss.', 'Mr.', 'Miss.', 'Mr.', 'Mr.', 'Master.', 'Mr.', 'Miss.', 'Mr.', 'Mr.', 'Miss.', 'Mr.', 'Mr.', 'Mrs.', 'Mrs.', 'Miss.', 'Mr.', 'Impe,', 'Mr.', 'Mr.', 'Mr.', 'Mrs.', 'Mr.', 'Mr.', 'Mrs.', 'Miss.', 'Mr.', 'Mr.', 'Mr.', 'Mrs.', 'Mrs.', 'Mr.', 'Mr.', 'Miss.', 'Miss.', 'Mrs.', 'Mr.', 'Mr.', 'Mrs.', 'Mr.', 'Mr.', 'Ms.', 'Mr.', 'Master.', 'Miss.', 'Mr.', 'Miss.', 'Major.', 'Mr.', 'Mr.', 'Mr.', 'Mr.', 'Mr.', 'Mr.', 'Mr.', 'Mrs.', 'Miss.', 'Mr.', 'Mr.', 'Mr.', 'Mr.', 'Mr.', 'Mr.', 'Mr.', 'Mr.', 'Mr.', 'Mr.', 'Miss.', 'Mr.', 'Mr.', 'Mrs.', 'Mrs.', 'Miss.', 'Mr.', 'Mr.', 'Mr.', 'Mr.', 'Miss.', 'Master.', 'Mr.', 'Mr.', 'Mrs.', 'Mr.', 'Miss.', 'Mrs.', 'Mr.', 'Mr.', 'Master.', 'Mr.', 'Mr.', 'Mr.', 'Mr.', 'Mr.', 'Mr.', 'Miss.', 'Mr.', 'Mrs.', 'Mr.', 'Mr.', 'Miss.', 'Miss.', 'Miss.', 'Miss.', 'y', 'Mrs.', 'Mr.', 'Mr.', 'Mr.', 'Mr.', 'Mr.', 'Mr.', 'Mrs.', 'Mr.', 'Mr.', 'Mrs.', 'Mr.', 'Mrs.', 'Mr.', 'Miss.', 'Mr.', 'Mr.', 'Mrs.', 'Mr.', 'Mr.', 'Miss.', 'Mr.', 'Mr.', 'Mr.', 'Miss.', 'Mr.', 'Mr.', 'Mrs.', 'Miss.', 'Miss.', 'Major.', 'Miss.', 'Mr.', 'Miss.', 'Miss.', 'Miss.', 'Miss.', 'Mr.', 'Mr.', 'Mr.', 'Mrs.', 'y', 'Mr.', 'Master.', 'Mr.', 'Mr.', 'Mr.', 'Mr.', 'Miss.', 'Mr.', 'Gordon,', 'Mr.', 'Mrs.', 'Messemaeker,', 'Mr.', 'Mr.', 'Mr.', 'Mr.', 'Miss.', 'Mr.', 'Mr.', 'Mrs.', 'Mr.', 'Mr.', 'Mr.', 'Mrs.', 'Mr.', 'Miss.', 'Mr.', 'Mr.', 'Miss.', 'Mrs.', 'Mrs.', 'Mr.', 'Miss.', 'Mrs.', 'Mr.', 'Mr.', 'Mr.', 'Miss.', 'Mr.', 'Mr.', 'Mr.', 'Mr.', 'Mr.', 'Mrs.', 'Mr.', 'Miss.', 'Mr.', 'Impe,', 'Miss.', 'Mr.', 'Mr.', 'Gordon,', 'Mrs.', 'Mr.', 'Mr.', 'Mr.', 'Mr.', 'Mr.', 'Mr.', 'Mr.', 'Mrs.', 'Miss.', 'Mrs.', 'Mr.', 'Miss.', 'Mr.', 'Mr.', 'Miss.', 'Mr.', 'Mrs.', 'Miss.', 'Mr.', 'Mr.', 'Mr.', 'Mr.', 'Mr.', 'Mr.', 'Mr.', 'Rev.', 'Miss.', 'Mr.', 'Mr.', 'Mr.', 'Mr.', 'Dr.', 'Mr.', 'Miss.', 'Miss.', 'Mr.', 'Mr.', 'Mrs.', 'Mr.', 'Mr.', 'Mlle.', 'Miss.', 'Mr.', 'Miss.', 'Mr.', 'Mr.', 'Col.', 'Mr.', 'Miss.', 'Mr.', 'Miss.', 'Mr.', 'Miss.', 'Miss.', 'Mr.', 'Mr.', 'Mrs.', 'Mr.', 'Mr.', 'Dr.', 'Mr.', 'Mr.', 'Mr.', 'Mr.', 'Mr.', 'Mr.', 'Mr.', 'Mr.', 'Mrs.', 'Mrs.', 'Mr.', 'Mr.', 'Mr.', 'Mr.', 'Mr.', 'Mr.', 'Miss.', 'Mrs.', 'Mr.', 'Miss.', 'Mr.', 'Mr.', 'Mr.', 'Mr.', 'Mr.', 'Mr.', 'Mr.', 'Mr.', 'Miss.', 'Mr.', 'Miss.', 'Mr.', 'Mr.', 'Col.', 'Mr.', 'Mr.', 'Miss.', 'Mr.', 'Mr.', 'Mrs.', 'Mr.', 'Miss.', 'Mr.', 'Mr.', 'Mr.', 'Mrs.', 'Mr.', 'Miss.', 'Master.', 'Mlle.', 'Mr.', 'Mr.', 'Mr.', 'Mr.', 'Mr.', 'Miss.', 'Miss.', 'Mr.', 'Mr.', 'Miss.', 'Mr.', 'Mr.', 'Mr.', 'Mr.', 'Mr.', 'Mrs.', 'Miss.', 'Mr.', 'Miss.', 'Miss.', 'Mr.', 'Mr.', 'Mr.', 'Mr.', 'Mr.', 'Mrs.', 'Mr.', 'Mr.', 'Mr.', 'Mr.', 'Mr.', 'Miss.', 'Mr.', 'Mr.', 'Capt.', 'Mr.', 'Miss.', 'Mr.', 'Mr.', 'Miss.', 'Master.', 'Velde,', 'Mr.', 'Mrs.', 'Master.', 'Mr.', 'Mr.', 'Mr.', 'the', 'Mr.', 'Mr.', 'Mr.', 'Mrs.', 'Mr.', 'Mrs.', 'Dr.', 'Miss.', 'Mr.', 'Mr.', 'Mr.', 'Mr.', 'Mrs.', 'Mr.', 'Mrs.', 'Mr.', 'Mr.', 'Miss.', 'Mr.', 'Mrs.', 'Miss.', 'Mrs.', 'Mr.', 'Mr.', 'Mr.', 'Mr.', 'Miss.', 'Master.', 'Master.', 'Mr.', 'Mr.', 'Mr.', 'Miss.', 'Mr.', 'Mr.', 'Mr.', 'Dr.', 'Mrs.', 'Shawah,', 'Impe,', 'Mr.', 'Mrs.', 'Master.', 'Master.', 'Mr.', 'Mr.', 'Mr.', 'Miss.', 'Mr.', 'Mrs.', 'Mr.', 'Mr.', 'Mr.', 'Miss.', 'Mr.', 'Mr.', 'Miss.', 'Mr.', 'Mr.', 'Master.', 'Mrs.', 'Mr.', 'Jonkheer.', 'Mrs.', 'Master.', 'Mr.', 'Mr.', 'Master.', 'Mr.', 'Mrs.', 'Mrs.', 'Master.', 'Mr.', 'Mr.', 'Mr.', 'Miss.', 'Mr.', 'Mr.', 'Mr.', 'Mr.', 'Mr.', 'Mr.', 'Miss.', 'Mr.', 'Mr.', 'Mr.', 'Mr.', 'Mr.', 'Rev.', 'Mrs.', 'Master.', 'Mr.', 'Miss.', 'Miss.', 'Mrs.', 'Mrs.', 'Mrs.', 'Mr.', 'Mrs.', 'Mr.', 'Mr.', 'Mr.', 'Mrs.', 'Miss.', 'Mr.', 'Mrs.', 'y', 'Mr.', 'Melkebeke,', 'Master.', 'Mr.', 'Mrs.', 'Mr.', 'Cruyssen,', 'Mrs.', 'Miss.', 'Mr.', 'Mr.', 'Mr.', 'Mrs.', 'Mrs.', 'Mr.', 'Miss.', 'Mr.', 'Mr.', 'Mrs.', 'Rev.', 'Miss.', 'Miss.', 'Mr.', 'Mr.']]\n"
     ]
    }
   ],
   "source": [
    "print(titulo_sobrevivencia)"
   ]
  },
  {
   "cell_type": "code",
   "execution_count": null,
   "id": "fb07dcb9",
   "metadata": {},
   "outputs": [],
   "source": []
  },
  {
   "cell_type": "code",
   "execution_count": null,
   "id": "41da979e",
   "metadata": {},
   "outputs": [],
   "source": [
    "variaveis3=['Sex_binario', 'Age', 'Pclass', 'SibSp', 'Parch', 'Fare', 'Porto1', 'Porto2']"
   ]
  },
  {
   "cell_type": "code",
   "execution_count": null,
   "id": "ab452d7d",
   "metadata": {},
   "outputs": [],
   "source": [
    "resultados=[]\n",
    "for rep in range(10): \n",
    "    #print ('Rep: ',rep)\n",
    "    kf=RepeatedKFold(n_splits=2, n_repeats=5, random_state=10)\n",
    "\n",
    "    for l_treino, l_valid in kf.split(I):\n",
    "        \n",
    "        x_treino, x_valid =I.iloc[l_treino], I.iloc[l_valid]\n",
    "        y_treino, y_valid = L.iloc[l_treino], L.iloc[l_valid]\n",
    "        #print(x_treino.head())\n",
    "\n",
    "        modelo=rndf(n_estimators=100, n_jobs=-1, random_state=0)\n",
    "        modelo.fit(x_treino, y_treino)\n",
    "\n",
    "        p=modelo.predict(x_valid)\n",
    "\n",
    "        acc=np.mean(y_valid==p)\n",
    "        resultados.append(acc)\n",
    "        #print('Acc: ', acc)\n",
    "        #print()\n",
    "\n",
    "print('------------------------------')\n",
    "print('Média: ')\n",
    "print(np.mean(resultados))"
   ]
  },
  {
   "cell_type": "code",
   "execution_count": null,
   "id": "866ac6ea",
   "metadata": {},
   "outputs": [],
   "source": []
  },
  {
   "cell_type": "code",
   "execution_count": null,
   "id": "ae694bbb",
   "metadata": {},
   "outputs": [],
   "source": []
  }
 ],
 "metadata": {
  "kernelspec": {
   "display_name": "Python 3 (ipykernel)",
   "language": "python",
   "name": "python3"
  },
  "language_info": {
   "codemirror_mode": {
    "name": "ipython",
    "version": 3
   },
   "file_extension": ".py",
   "mimetype": "text/x-python",
   "name": "python",
   "nbconvert_exporter": "python",
   "pygments_lexer": "ipython3",
   "version": "3.9.12"
  }
 },
 "nbformat": 4,
 "nbformat_minor": 5
}
